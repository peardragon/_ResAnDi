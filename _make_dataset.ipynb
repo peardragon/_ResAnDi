{
 "cells": [
  {
   "cell_type": "code",
   "execution_count": null,
   "outputs": [],
   "source": [
    "from utils._dataset_generation import dataset_generation\n",
    "\n",
    "# make dataset with default noise train 0, default noise test 0\n",
    "dataset_generation(length=\"Varying\", noise=\"Default\", dataset_num=0, save_dir=f\"./dataset/test/\")\n",
    "dataset_generation(length=\"Varying\", noise=\"Default\", dataset_num=0, save_dir=f\"./dataset/train/\")\n",
    "\n",
    "\n",
    "# make dataset with noise-free 1000 length train 0-4, noise free\n",
    "for i in range(5):\n",
    "    dataset_generation(length=\"Fixed\", noise=\"None\", dataset_num=i, save_dir=f\"./dataset/train_1000/\")\n",
    "dataset_generation(length=\"Fixed\", noise=\"None\", dataset_num=0, save_dir=f\"./dataset/test_1000/\")\n"
   ],
   "metadata": {
    "collapsed": false
   }
  }
 ],
 "metadata": {
  "kernelspec": {
   "display_name": "Python 3",
   "language": "python",
   "name": "python3"
  },
  "language_info": {
   "codemirror_mode": {
    "name": "ipython",
    "version": 2
   },
   "file_extension": ".py",
   "mimetype": "text/x-python",
   "name": "python",
   "nbconvert_exporter": "python",
   "pygments_lexer": "ipython2",
   "version": "2.7.6"
  }
 },
 "nbformat": 4,
 "nbformat_minor": 0
}
